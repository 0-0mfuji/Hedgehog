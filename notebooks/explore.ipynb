{
 "cells": [
  {
   "cell_type": "markdown",
   "metadata": {},
   "source": [
    "# word2vecの読み込み\n",
    "\n",
    "東北大学 乾・岡崎研究室で公開されているWord2Vecの学習済みのベクトルを使用します。\n",
    "Pytouchを利用するためにPytouchで利用可能な形式に変換します。\n",
    "\n",
    "memo\n",
    "TorchTextには日本語の学習済みデータがないわけではないが、精度が微妙かもしれない。\n",
    "\n",
    "今回は[gensim](https://radimrehurek.com/gensim/index.html)というPythonのフリーのライブラリを利用します。"
   ]
  },
  {
   "cell_type": "code",
   "execution_count": null,
   "metadata": {},
   "outputs": [],
   "source": [
    "# 以下から、日本語のfasttextの学習済みベクトルをダウンロード\n",
    "# 東北大学 乾・岡崎研究室：日本語 Wikipedia エンティティベクトル\n",
    "\n",
    "# http://www.cl.ecei.tohoku.ac.jp/~m-suzuki/jawiki_vector/　(現在稼働してない模様)\n",
    "# http://www.cl.ecei.tohoku.ac.jp/~m-suzuki/jawiki_vector/data/20170201.tar.bz2　(現在稼働してない模様)\n",
    "\n",
    "# 以下のリリースが利用可能\n",
    "\n",
    "# https://github.com/singletongue/WikiEntVec/"
   ]
  },
  {
   "cell_type": "code",
   "execution_count": 1,
   "metadata": {},
   "outputs": [
    {
     "name": "stdout",
     "output_type": "stream",
     "text": [
      "Defaulting to user installation because normal site-packages is not writeable\n",
      "Collecting gensim\n",
      "  Downloading gensim-4.3.3-cp39-cp39-macosx_11_0_arm64.whl.metadata (8.3 kB)\n",
      "Requirement already satisfied: numpy<2.0,>=1.18.5 in /Users/mfujimak/Library/Python/3.9/lib/python/site-packages (from gensim) (1.26.4)\n",
      "Collecting scipy<1.14.0,>=1.7.0 (from gensim)\n",
      "  Downloading scipy-1.13.1-cp39-cp39-macosx_12_0_arm64.whl.metadata (60 kB)\n",
      "Requirement already satisfied: smart-open>=1.8.1 in /Users/mfujimak/Library/Python/3.9/lib/python/site-packages (from gensim) (6.4.0)\n",
      "Downloading gensim-4.3.3-cp39-cp39-macosx_11_0_arm64.whl (24.0 MB)\n",
      "\u001b[2K   \u001b[90m━━━━━━━━━━━━━━━━━━━━━━━━━━━━━━━━━━━━━━━━\u001b[0m \u001b[32m24.0/24.0 MB\u001b[0m \u001b[31m8.8 MB/s\u001b[0m eta \u001b[36m0:00:00\u001b[0m00:01\u001b[0m00:01\u001b[0m\n",
      "\u001b[?25hDownloading scipy-1.13.1-cp39-cp39-macosx_12_0_arm64.whl (30.3 MB)\n",
      "\u001b[2K   \u001b[90m━━━━━━━━━━━━━━━━━━━━━━━━━━━━━━━━━━━━━━━━\u001b[0m \u001b[32m30.3/30.3 MB\u001b[0m \u001b[31m8.2 MB/s\u001b[0m eta \u001b[36m0:00:00\u001b[0ma \u001b[36m0:00:01\u001b[0m\n",
      "\u001b[?25hInstalling collected packages: scipy, gensim\n",
      "Successfully installed gensim-4.3.3 scipy-1.13.1\n"
     ]
    }
   ],
   "source": [
    "# 使用ライブラリのインストール\n",
    "\n",
    "!pip install --upgrade gensim\n"
   ]
  },
  {
   "cell_type": "code",
   "execution_count": 7,
   "metadata": {},
   "outputs": [],
   "source": [
    "from gensim.models import KeyedVectors\n",
    "\n",
    "\n",
    "# 一度gensimライブラリで読み込んで、word2vecのformatで保存する\n",
    "model = KeyedVectors.load_word2vec_format(\n",
    "    '../models/entity_vector.model.txt', binary=False)\n",
    "\n",
    "# 保存（3分程度）\n",
    "model.save_word2vec_format('../data/japanese_word2vec_vectors.vec')"
   ]
  },
  {
   "cell_type": "code",
   "execution_count": 10,
   "metadata": {},
   "outputs": [
    {
     "name": "stdout",
     "output_type": "stream",
     "text": [
      "('放射線科', 0.870365560054779)\n",
      "('消化器科', 0.8663098812103271)\n",
      "('麻酔科', 0.8601967096328735)\n",
      "('[神経内科]', 0.855944037437439)\n",
      "('リハビリテーション科', 0.8522671461105347)\n",
      "('循環器科', 0.8498649001121521)\n",
      "('耳鼻咽喉科', 0.8451355695724487)\n",
      "('心療内科', 0.8448997139930725)\n",
      "('[耳鼻咽喉科]', 0.83653724193573)\n",
      "('[口腔外科]', 0.8320921659469604)\n"
     ]
    }
   ],
   "source": [
    "# 動作確認\n",
    "from gensim.models import KeyedVectors\n",
    "\n",
    "# utf-8 errorが発生　コード変更で対処。使用する可能性のあるコマンドを追記\n",
    "# $ nkf -w --overwrite entity_vector.model.txt\n",
    "wv = KeyedVectors.load_word2vec_format('../data/japanese_word2vec_vectors.vec', binary=False)\n",
    "results = wv.most_similar(positive=['神経内科'])\n",
    "for result in results:\n",
    "    print(result)"
   ]
  },
  {
   "cell_type": "markdown",
   "metadata": {},
   "source": [
    "# word2vecの分類\n",
    "\n",
    "複数の手法とライブラリが使用可能な可能性があるため、ファイルを分割します。\n",
    "\n",
    "* [kemeans Scikit-learn](./kmeans.ipynb)\n",
    "* [階層的クラスタリング Scikit-learn](./hc.ipynb)\n",
    "* [DBSCAN Scikit-learn](./dbscan.ipynb)\n",
    "\n",
    "形態素解析はMecabを使用するが、インストールや扱いづらい構造をしているため使用を変更する可能性がある。\n",
    "\n",
    "* [kemeans Scikit-learn + Mecab](./kmeans_mecab.ipynb)\n",
    "* [kemeans Scikit-learn + Mecab + 名詞分類](./kmeans_mecab.ipynb)\n",
    "* [kemeans Scikit-learn + pca + Mecab](./kmeans_mecab.ipynb)\n",
    "\n",
    "形態素解析にはSpacyの方が構造上扱いやすいと感じる。(用調べ)\n",
    "\n",
    "* [kemeans Scikit-learn + spacy](./kmeans_spacy.ipynb)❌\n",
    "\n",
    "LDA法\n",
    "\n",
    "* [LDA](./LDA.ipynb)\n",
    "\n"
   ]
  }
 ],
 "metadata": {
  "kernelspec": {
   "display_name": "Python 3",
   "language": "python",
   "name": "python3"
  },
  "language_info": {
   "codemirror_mode": {
    "name": "ipython",
    "version": 3
   },
   "file_extension": ".py",
   "mimetype": "text/x-python",
   "name": "python",
   "nbconvert_exporter": "python",
   "pygments_lexer": "ipython3",
   "version": "3.9.6"
  }
 },
 "nbformat": 4,
 "nbformat_minor": 2
}
