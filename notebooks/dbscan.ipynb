{
 "cells": [
  {
   "cell_type": "markdown",
   "metadata": {},
   "source": [
    "# word2vecの分類　（dbscan Scikit-learn）\n",
    "\n",
    "Scikit-learnを使用してクラスター分類を行う。\n",
    "dbscanを調べる。"
   ]
  },
  {
   "cell_type": "code",
   "execution_count": 1,
   "metadata": {},
   "outputs": [
    {
     "name": "stdout",
     "output_type": "stream",
     "text": [
      "Defaulting to user installation because normal site-packages is not writeable\n",
      "Requirement already satisfied: scikit-learn in /Users/mfujimak/Library/Python/3.9/lib/python/site-packages (1.5.1)\n",
      "Requirement already satisfied: numpy>=1.19.5 in /Users/mfujimak/Library/Python/3.9/lib/python/site-packages (from scikit-learn) (1.26.4)\n",
      "Requirement already satisfied: scipy>=1.6.0 in /Users/mfujimak/Library/Python/3.9/lib/python/site-packages (from scikit-learn) (1.13.1)\n",
      "Requirement already satisfied: joblib>=1.2.0 in /Users/mfujimak/Library/Python/3.9/lib/python/site-packages (from scikit-learn) (1.4.2)\n",
      "Requirement already satisfied: threadpoolctl>=3.1.0 in /Users/mfujimak/Library/Python/3.9/lib/python/site-packages (from scikit-learn) (3.5.0)\n",
      "Defaulting to user installation because normal site-packages is not writeable\n",
      "Requirement already satisfied: gensim in /Users/mfujimak/Library/Python/3.9/lib/python/site-packages (4.3.3)\n",
      "Requirement already satisfied: numpy<2.0,>=1.18.5 in /Users/mfujimak/Library/Python/3.9/lib/python/site-packages (from gensim) (1.26.4)\n",
      "Requirement already satisfied: scipy<1.14.0,>=1.7.0 in /Users/mfujimak/Library/Python/3.9/lib/python/site-packages (from gensim) (1.13.1)\n",
      "Requirement already satisfied: smart-open>=1.8.1 in /Users/mfujimak/Library/Python/3.9/lib/python/site-packages (from gensim) (6.4.0)\n"
     ]
    }
   ],
   "source": [
    "# 使用ライブラリのインストール\n",
    "\n",
    "!pip install -U scikit-learn\n",
    "\n",
    "!pip install --upgrade gensim"
   ]
  },
  {
   "cell_type": "code",
   "execution_count": 2,
   "metadata": {},
   "outputs": [
    {
     "name": "stderr",
     "output_type": "stream",
     "text": [
      "/Users/mfujimak/Library/Python/3.9/lib/python/site-packages/urllib3/__init__.py:35: NotOpenSSLWarning: urllib3 v2 only supports OpenSSL 1.1.1+, currently the 'ssl' module is compiled with 'LibreSSL 2.8.3'. See: https://github.com/urllib3/urllib3/issues/3020\n",
      "  warnings.warn(\n"
     ]
    }
   ],
   "source": [
    "from gensim.models import KeyedVectors\n",
    "from sklearn.cluster import DBSCAN\n",
    "import numpy as np\n",
    "\n",
    "def dbscan_cluster_words(model_path, eps, min_samples):\n",
    "    # Word2Vecモデルの読み込み\n",
    "    model = KeyedVectors.load_word2vec_format(model_path, binary=False)\n",
    "\n",
    "    # 全単語のベクトルを取得\n",
    "    word_vectors = model.vectors\n",
    "\n",
    "    # DBSCANクラスタリングの実行\n",
    "    dbscan = DBSCAN(eps=eps, min_samples=min_samples)\n",
    "    cluster_indices = dbscan.fit_predict(word_vectors)\n",
    "\n",
    "    # 単語とクラスタの対応を表示\n",
    "    word_cluster_map = {word: cluster_indices[i] for i, word in enumerate(model.index_to_key)}\n",
    "\n",
    "    # 結果を表示 (例: 最初の10単語)\n",
    "    for word, cluster in list(word_cluster_map.items())[:10]:\n",
    "        print(f\"Word: {word}, Cluster: {cluster}\")\n",
    "\n",
    "    return word_vectors, cluster_indices"
   ]
  },
  {
   "cell_type": "code",
   "execution_count": 4,
   "metadata": {},
   "outputs": [],
   "source": [
    "from gensim.models import KeyedVectors\n",
    "from sklearn.cluster import DBSCAN\n",
    "import numpy as np\n",
    "\n",
    "def dbscan_cluster_words_in_batches(model_path, batch_size, eps, min_samples):\n",
    "    # Word2Vecモデルの読み込み\n",
    "    model = KeyedVectors.load_word2vec_format(model_path, binary=False)\n",
    "\n",
    "    # 全単語のベクトルを取得\n",
    "    word_vectors = model.vectors\n",
    "    num_words = len(word_vectors)\n",
    "\n",
    "    # バッチ処理を準備\n",
    "    word_cluster_map = {}\n",
    "    dbscan = DBSCAN(eps=eps, min_samples=min_samples)\n",
    "\n",
    "    for start_idx in range(0, num_words, batch_size):\n",
    "        # バッチ分割\n",
    "        end_idx = min(start_idx + batch_size, num_words)\n",
    "        batch_vectors = word_vectors[start_idx:end_idx]\n",
    "\n",
    "        # DBSCANクラスタリングの実行\n",
    "        cluster_indices = dbscan.fit_predict(batch_vectors)\n",
    "\n",
    "        # バッチごとに単語とクラスタの対応を保存\n",
    "        for i, word in enumerate(model.index_to_key[start_idx:end_idx]):\n",
    "            word_cluster_map[word] = cluster_indices[i]\n",
    "\n",
    "    # 結果を表示 (例: 最初の10単語)\n",
    "    for word, cluster in list(word_cluster_map.items())[:10]:\n",
    "        print(f\"Word: {word}, Cluster: {cluster}\")\n",
    "\n",
    "    return word_vectors, cluster_indices\n"
   ]
  },
  {
   "cell_type": "code",
   "execution_count": 5,
   "metadata": {},
   "outputs": [
    {
     "name": "stdout",
     "output_type": "stream",
     "text": [
      "Word: の, Cluster: -1\n",
      "Word: 、, Cluster: -1\n",
      "Word: 。, Cluster: -1\n",
      "Word: に, Cluster: -1\n",
      "Word: は, Cluster: -1\n",
      "Word: を, Cluster: -1\n",
      "Word: た, Cluster: -1\n",
      "Word: が, Cluster: -1\n",
      "Word: で, Cluster: -1\n",
      "Word: て, Cluster: -1\n"
     ]
    }
   ],
   "source": [
    "\n",
    "model_path = '../data/japanese_word2vec_vectors.vec'\n",
    "batch_size = 1000\n",
    "eps = 0.5\n",
    "min_samples = 5\n",
    "word_vectors, cluster_indices = dbscan_cluster_words_in_batches(model_path, batch_size)"
   ]
  },
  {
   "cell_type": "code",
   "execution_count": 7,
   "metadata": {},
   "outputs": [],
   "source": [
    "import logging\n",
    "import numpy as np\n",
    "import seaborn as sns\n",
    "import matplotlib.pyplot as plt\n",
    "from tqdm import tqdm\n",
    "from sklearn.decomposition import PCA\n",
    "from sklearn.metrics import silhouette_score, silhouette_samples\n",
    "from sklearn.utils import resample\n",
    "\n",
    "# ログ設定\n",
    "logging.basicConfig(level=logging.INFO, format='%(asctime)s - %(levelname)s - %(message)s')\n",
    "\n",
    "def plot_cluster_word_counts(cluster_indices):\n",
    "    logging.info(\"Calculating the number of words per cluster...\")\n",
    "    unique, counts = np.unique(cluster_indices, return_counts=True)\n",
    "    cluster_counts = dict(zip(unique, counts))\n",
    "\n",
    "    logging.info(\"Plotting the number of words per cluster...\")\n",
    "    plt.figure(figsize=(10, 6))\n",
    "    sns.barplot(x=list(cluster_counts.keys()), y=list(cluster_counts.values()), palette=\"viridis\")\n",
    "    plt.title('Number of Words per Cluster')\n",
    "    plt.xlabel('Cluster')\n",
    "    plt.ylabel('Number of Words')\n",
    "    plt.show()\n",
    "\n",
    "def plot_cluster_centers_pca(word_vectors, kmeans):\n",
    "    logging.info(\"Performing PCA on word vectors...\")\n",
    "    pca = PCA(n_components=2)\n",
    "    word_vectors_pca = pca.fit_transform(word_vectors)\n",
    "    cluster_centers_pca = pca.transform(kmeans.cluster_centers_)\n",
    "\n",
    "    logging.info(\"Plotting word vectors and cluster centers...\")\n",
    "    plt.figure(figsize=(10, 8))\n",
    "    plt.scatter(word_vectors_pca[:, 0], word_vectors_pca[:, 1], c=cluster_indices, cmap='viridis', alpha=0.5, s=10)\n",
    "    plt.scatter(cluster_centers_pca[:, 0], cluster_centers_pca[:, 1], c='red', marker='x', s=100, label='Cluster Centers')\n",
    "    plt.title('Word Vectors and Cluster Centers (PCA)')\n",
    "    plt.xlabel('PCA Component 1')\n",
    "    plt.ylabel('PCA Component 2')\n",
    "    plt.legend()\n",
    "    plt.show()\n",
    "\n",
    "def plot_silhouette_analysis(word_vectors, cluster_indices, num_clusters):\n",
    "    logging.info(\"Calculating silhouette score...\")\n",
    "    sampled_word_vectors, sampled_cluster_indices = resample(word_vectors, cluster_indices, n_samples=int(0.01*len(word_vectors)), random_state=42)\n",
    "    silhouette_avg = silhouette_score(sampled_word_vectors, sampled_cluster_indices)\n",
    "    logging.info(f\"Silhouette Score: {silhouette_avg:.3f}\")\n",
    "\n",
    "    logging.info(\"Plotting silhouette scores for each cluster...\")\n",
    "    sample_silhouette_values = silhouette_samples(sampled_word_vectors, sampled_cluster_indices)\n",
    "    y_lower = 10\n",
    "\n",
    "    plt.figure(figsize=(10, 8))\n",
    "\n",
    "    # クラスターごとのサンプル数が大きい場合に進行状況を表示\n",
    "    for i in tqdm(range(num_clusters), desc=\"Clusters processed\"):\n",
    "        ith_cluster_silhouette_values = sample_silhouette_values[sampled_cluster_indices == i]\n",
    "        ith_cluster_silhouette_values.sort()\n",
    "\n",
    "        size_cluster_i = ith_cluster_silhouette_values.shape[0]\n",
    "        y_upper = y_lower + size_cluster_i\n",
    "\n",
    "        color = plt.cm.nipy_spectral(float(i) / num_clusters)\n",
    "        plt.fill_betweenx(np.arange(y_lower, y_upper), 0, ith_cluster_silhouette_values,\n",
    "                          facecolor=color, edgecolor=color, alpha=0.7)\n",
    "\n",
    "        plt.text(-0.05, y_lower + 0.5 * size_cluster_i, str(i))\n",
    "        y_lower = y_upper + 10\n",
    "\n",
    "    plt.title(\"Silhouette Plot for Various Clusters\")\n",
    "    plt.xlabel(\"Silhouette Coefficient Values\")\n",
    "    plt.ylabel(\"Cluster\")\n",
    "\n",
    "    plt.axvline(x=silhouette_avg, color=\"red\", linestyle=\"--\")\n",
    "    plt.show()"
   ]
  },
  {
   "cell_type": "code",
   "execution_count": 8,
   "metadata": {},
   "outputs": [
    {
     "name": "stderr",
     "output_type": "stream",
     "text": [
      "2024-09-15 23:59:37,278 - INFO - Calculating the number of words per cluster...\n",
      "2024-09-15 23:59:37,280 - INFO - Plotting the number of words per cluster...\n",
      "2024-09-15 23:59:37,352 - INFO - Using categorical units to plot a list of strings that are all parsable as floats or dates. If these strings should be plotted as numbers, cast to the appropriate data type before plotting.\n",
      "/var/folders/2x/p5h03dq11m7b230v42t51spw0000gn/T/ipykernel_32314/3546456425.py:20: FutureWarning: \n",
      "\n",
      "Passing `palette` without assigning `hue` is deprecated and will be removed in v0.14.0. Assign the `x` variable to `hue` and set `legend=False` for the same effect.\n",
      "\n",
      "  sns.barplot(x=list(cluster_counts.keys()), y=list(cluster_counts.values()), palette=\"viridis\")\n",
      "2024-09-15 23:59:37,358 - INFO - Using categorical units to plot a list of strings that are all parsable as floats or dates. If these strings should be plotted as numbers, cast to the appropriate data type before plotting.\n"
     ]
    },
    {
     "data": {
      "image/png": "[encoded data removed]",
      "text/plain": [
       "<Figure size 1000x600 with 1 Axes>"
      ]
     },
     "metadata": {},
     "output_type": "display_data"
    }
   ],
   "source": [
    "plot_cluster_word_counts(cluster_indices)"
   ]
  }
 ],
 "metadata": {
  "kernelspec": {
   "display_name": "Python 3",
   "language": "python",
   "name": "python3"
  },
  "language_info": {
   "codemirror_mode": {
    "name": "ipython",
    "version": 3
   },
   "file_extension": ".py",
   "mimetype": "text/x-python",
   "name": "python",
   "nbconvert_exporter": "python",
   "pygments_lexer": "ipython3",
   "version": "3.9.6"
  }
 },
 "nbformat": 4,
 "nbformat_minor": 2
}
