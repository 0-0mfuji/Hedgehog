{
 "cells": [
  {
   "cell_type": "code",
   "execution_count": 5,
   "metadata": {},
   "outputs": [
    {
     "name": "stderr",
     "output_type": "stream",
     "text": [
      "2024-10-02 13:58:45,120 : INFO : loaded corpus index from ../data/jawiki_tfidf.mm.index\n",
      "2024-10-02 13:58:45,121 : INFO : initializing cython corpus reader from ../data/jawiki_tfidf.mm\n",
      "2024-10-02 13:58:45,121 : INFO : accepted corpus with 1307644 documents, 100000 features, 220154677 non-zero entries\n",
      "2024-10-02 13:58:45,138 : INFO : adding document #0 to Dictionary<0 unique tokens: []>\n",
      "2024-10-02 13:58:45,139 : INFO : built Dictionary<155 unique tokens: ['かあさん', 'かい', 'かいがん', 'かいこう', 'かいしゃ']...> from 155 documents (total 155 corpus positions)\n",
      "2024-10-02 13:58:45,140 : INFO : Dictionary lifecycle event {'msg': \"built Dictionary<155 unique tokens: ['かあさん', 'かい', 'かいがん', 'かいこう', 'かいしゃ']...> from 155 documents (total 155 corpus positions)\", 'datetime': '2024-10-02T13:58:45.140186', 'gensim': '4.3.3', 'python': '3.9.6 (default, Mar 29 2024, 10:51:09) \\n[Clang 15.0.0 (clang-1500.3.9.4)]', 'platform': 'macOS-14.6.1-arm64-arm-64bit', 'event': 'created'}\n"
     ]
    },
    {
     "name": "stdout",
     "output_type": "stream",
     "text": [
      "最初の文字が「か」の単語の数: 155\n",
      "最初の文字が「か」の単語: {37667: 'かあさん', 1095: 'かい', 58595: 'かいがん', 54059: 'かいこう', 66774: 'かいしゃ', 71723: 'かいしん', 52794: 'かいじゅう', 91808: 'かいてい', 49446: 'かいな', 70879: 'かいよう', 75522: 'かいり', 1096: 'かお', 28090: 'かおり', 19442: 'かおる', 75687: 'かかし', 56680: 'かかと', 56708: 'かかりつけ', 3080: 'かかわり', 93859: 'かかん', 31046: 'かがり火', 29080: 'かき', 68560: 'かきつばた', 93347: 'かき揚げ', 64591: 'かき氷', 18203: 'かぎ', 10636: 'かぎり', 1097: 'かく', 21270: 'かくし芸', 80914: 'かくせい', 8651: 'かくれんぼ', 25611: 'かく乱', 36526: 'かぐら', 19798: 'かけ', 63732: 'かけがえ', 8652: 'かけっこ', 261: 'かけ声', 69697: 'かけ橋', 18204: 'かげ', 59469: 'かげり', 36086: 'かげろう', 84383: 'かげん', 40712: 'かこ', 14961: 'かご', 8653: 'かごめ', 32048: 'かさ', 68493: 'かさご', 79176: 'かさぶた', 47997: 'かさん', 1098: 'かざし', 49136: 'かざり', 22545: 'かし', 1099: 'かしこ', 77600: 'かしょう', 25612: 'かしら', 32049: 'かしわ', 39333: 'かじ', 31686: 'かじき', 49158: 'かす', 58321: 'かすか', 31687: 'かすみ', 42371: 'かずえ', 21890: 'かずお', 75438: 'かずき', 56279: 'かずこ', 23054: 'かずみ', 21891: 'かずよ', 65855: 'かず子', 27086: 'かぜ', 1100: 'かた', 63984: 'かたぎ', 59814: 'かたくな', 11478: 'かたち', 24851: 'かたつむり', 21981: 'かたわら', 7273: 'かっこ', 68934: 'かっこう', 46170: 'かっこよさ', 38881: 'かって', 5198: 'かっぱ', 63492: 'かっぽ', 44305: 'かつ', 31688: 'かつお', 39334: 'かつみ', 27667: 'かつら', 36745: 'かつらぎ', 28091: 'かづ', 31383: 'かとう', 1101: 'かな', 45732: 'かなえ', 57371: 'かなしみ', 1102: 'かなた', 36961: 'かなめ', 5552: 'かなり', 78237: 'かな子', 57314: 'かに', 38331: 'かね', 46171: 'かねこ', 25011: 'かのう', 32331: 'かの子', 33973: 'かばね', 63064: 'かばん', 11853: 'かぶれ', 66845: 'かほり', 34125: 'かほる', 28609: 'かぼちゃ', 21763: 'かま', 59470: 'かまきり', 8654: 'かまくら', 81253: 'かまた', 34639: 'かまち', 28610: 'かまぼこ', 78916: 'かみさん', 26571: 'かめ', 35643: 'かめだ', 24852: 'かも', 21764: 'かもめ', 29726: 'かや', 52795: 'かゆみ', 38882: 'かよ', 38332: 'かよ子', 44441: 'から', 30749: 'からかい', 39773: 'からくり', 48723: 'からたち', 64373: 'からだ', 91691: 'からっきし', 22546: 'からっぽ', 33609: 'からっ風', 8655: 'かるた', 29449: 'かれい', 45499: 'かれん', 53389: 'かわいそう', 90805: 'かわせ', 47931: 'かわせみ', 1103: 'かわら', 21765: 'かわら版', 16652: 'かわり', 68069: 'かをり', 5698: 'かん', 83928: 'かんがい', 91695: 'かんき出版', 90052: 'かんげん', 89674: 'かんこう', 43269: 'かんし', 77953: 'かんじょう', 79461: 'かんせん', 55888: 'かんな', 69539: 'かんぱ', 48827: 'かんぽ', 262: 'か国', 35644: 'か年', 7527: 'か所', 3843: 'か月', 28611: 'か村', 37330: 'か条'}\n"
     ]
    }
   ],
   "source": [
    "from gensim.corpora import Dictionary, MmCorpus\n",
    "from gensim.models import LdaModel\n",
    "import logging\n",
    "\n",
    "# 1. 学習中の状況を出力するフォーマットの指定\n",
    "logging.basicConfig(\n",
    "    format='%(asctime)s : %(levelname)s : %(message)s',\n",
    "    level=logging.INFO)\n",
    "\n",
    "num_topics = 100\n",
    "\n",
    "# 2. 辞書とコーパスの読み込み\n",
    "dictionary = Dictionary.load_from_text('../data/jawiki_wordids.txt.bz2')\n",
    "tfidf_corpus = MmCorpus('../data/jawiki_tfidf.mm')\n",
    "\n",
    "# 3. 最初の文字が「か」の単語をフィルタリング\n",
    "ka_words = {word_id: word for word, word_id in dictionary.token2id.items() if word.startswith('か')}\n",
    "print(f\"最初の文字が「か」の単語の数: {len(ka_words)}\")\n",
    "print(f\"最初の文字が「か」の単語: {ka_words}\")\n",
    "\n",
    "# 4. 新しい辞書の作成（「か」で始まる単語のみ）\n",
    "# 各単語をダミーの「ドキュメント」としてリスト化\n",
    "ka_documents = [[word] for word in ka_words.values()]\n",
    "ka_dictionary = Dictionary(ka_documents)\n",
    "\n"
   ]
  },
  {
   "cell_type": "code",
   "execution_count": null,
   "metadata": {},
   "outputs": [],
   "source": [
    "\n",
    "# 5. フィルタリングされた辞書を元に新しいコーパスを作成\n",
    "ka_corpus = [[(ka_dictionary.token2id[word], freq) for word, freq in doc if word in ka_dictionary.token2id] for doc in tfidf_corpus]"
   ]
  },
  {
   "cell_type": "code",
   "execution_count": null,
   "metadata": {},
   "outputs": [],
   "source": [
    "# 6. LDAの学習\n",
    "lda = LdaModel(corpus=ka_corpus, id2word=ka_dictionary, iterations=400, num_topics=num_topics, passes=20)\n",
    "\n",
    "# 7. モデルのトピック表示\n",
    "topics = lda.print_topics(num_topics=num_topics)\n",
    "for topic in topics:\n",
    "    print(topic)"
   ]
  }
 ],
 "metadata": {
  "kernelspec": {
   "display_name": "Python 3",
   "language": "python",
   "name": "python3"
  },
  "language_info": {
   "codemirror_mode": {
    "name": "ipython",
    "version": 3
   },
   "file_extension": ".py",
   "mimetype": "text/x-python",
   "name": "python",
   "nbconvert_exporter": "python",
   "pygments_lexer": "ipython3",
   "version": "3.9.6"
  }
 },
 "nbformat": 4,
 "nbformat_minor": 2
}
