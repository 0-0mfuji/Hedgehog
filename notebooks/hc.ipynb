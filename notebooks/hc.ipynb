{
 "cells": [
  {
   "cell_type": "markdown",
   "metadata": {},
   "source": [
    "# word2vecの分類　（hierarchical clustering Scikit-learn）\n",
    "\n",
    "Scikit-learnを使用してクラスター分類を行う。\n",
    "階層クラスタリングを調べる。\n",
    "\n",
    "計算量が多くエラーとなる。"
   ]
  },
  {
   "cell_type": "code",
   "execution_count": 1,
   "metadata": {},
   "outputs": [
    {
     "name": "stdout",
     "output_type": "stream",
     "text": [
      "Defaulting to user installation because normal site-packages is not writeable\n",
      "Requirement already satisfied: scikit-learn in /Users/mfujimak/Library/Python/3.9/lib/python/site-packages (1.5.1)\n",
      "Requirement already satisfied: numpy>=1.19.5 in /Users/mfujimak/Library/Python/3.9/lib/python/site-packages (from scikit-learn) (1.26.4)\n",
      "Requirement already satisfied: scipy>=1.6.0 in /Users/mfujimak/Library/Python/3.9/lib/python/site-packages (from scikit-learn) (1.13.1)\n",
      "Requirement already satisfied: joblib>=1.2.0 in /Users/mfujimak/Library/Python/3.9/lib/python/site-packages (from scikit-learn) (1.4.2)\n",
      "Requirement already satisfied: threadpoolctl>=3.1.0 in /Users/mfujimak/Library/Python/3.9/lib/python/site-packages (from scikit-learn) (3.5.0)\n",
      "Defaulting to user installation because normal site-packages is not writeable\n",
      "Requirement already satisfied: gensim in /Users/mfujimak/Library/Python/3.9/lib/python/site-packages (4.3.3)\n",
      "Requirement already satisfied: numpy<2.0,>=1.18.5 in /Users/mfujimak/Library/Python/3.9/lib/python/site-packages (from gensim) (1.26.4)\n",
      "Requirement already satisfied: scipy<1.14.0,>=1.7.0 in /Users/mfujimak/Library/Python/3.9/lib/python/site-packages (from gensim) (1.13.1)\n",
      "Requirement already satisfied: smart-open>=1.8.1 in /Users/mfujimak/Library/Python/3.9/lib/python/site-packages (from gensim) (6.4.0)\n"
     ]
    }
   ],
   "source": [
    "# 使用ライブラリのインストール\n",
    "\n",
    "!pip install -U scikit-learn\n",
    "\n",
    "!pip install --upgrade gensim"
   ]
  },
  {
   "cell_type": "code",
   "execution_count": 4,
   "metadata": {},
   "outputs": [],
   "source": [
    "from gensim.models import KeyedVectors\n",
    "from scipy.cluster.hierarchy import linkage, fcluster\n",
    "import numpy as np\n",
    "\n",
    "def hc_cluster_words(model_path, num_clusters):\n",
    "    # Word2Vecモデルの読み込み\n",
    "    model = KeyedVectors.load_word2vec_format(model_path, binary=False)\n",
    "\n",
    "    # 全単語のベクトルを取得\n",
    "    word_vectors = model.vectors\n",
    "\n",
    "    # 階層的クラスタリングの実行 (ウォード法を使用)\n",
    "    linkage_matrix = linkage(word_vectors, method='ward')\n",
    "\n",
    "    # クラスタの取得\n",
    "    cluster_indices = fcluster(linkage_matrix, num_clusters, criterion='maxclust')\n",
    "\n",
    "    # 単語とクラスタの対応を表示\n",
    "    word_cluster_map = {word: cluster_indices[i] for i, word in enumerate(model.index_to_key)}\n",
    "\n",
    "    # 結果を表示 (例: 最初の10単語)\n",
    "    for word, cluster in list(word_cluster_map.items())[:10]:\n",
    "        print(f\"Word: {word}, Cluster: {cluster}\")\n",
    "\n",
    "    return word_vectors, linkage_matrix, cluster_indices\n"
   ]
  },
  {
   "cell_type": "code",
   "execution_count": 5,
   "metadata": {},
   "outputs": [],
   "source": [
    "import logging\n",
    "import numpy as np\n",
    "import seaborn as sns\n",
    "import matplotlib.pyplot as plt\n",
    "from tqdm import tqdm\n",
    "from sklearn.decomposition import PCA\n",
    "from sklearn.metrics import silhouette_score, silhouette_samples\n",
    "from sklearn.utils import resample\n",
    "\n",
    "# ログ設定\n",
    "logging.basicConfig(level=logging.INFO, format='%(asctime)s - %(levelname)s - %(message)s')\n",
    "\n",
    "def plot_cluster_word_counts(cluster_indices):\n",
    "    logging.info(\"Calculating the number of words per cluster...\")\n",
    "    unique, counts = np.unique(cluster_indices, return_counts=True)\n",
    "    cluster_counts = dict(zip(unique, counts))\n",
    "\n",
    "    logging.info(\"Plotting the number of words per cluster...\")\n",
    "    plt.figure(figsize=(10, 6))\n",
    "    sns.barplot(x=list(cluster_counts.keys()), y=list(cluster_counts.values()), palette=\"viridis\")\n",
    "    plt.title('Number of Words per Cluster')\n",
    "    plt.xlabel('Cluster')\n",
    "    plt.ylabel('Number of Words')\n",
    "    plt.show()\n",
    "\n",
    "def plot_cluster_centers_pca(word_vectors, cluster_indices, num_clusters):\n",
    "    logging.info(\"Performing PCA on word vectors...\")\n",
    "    pca = PCA(n_components=2)\n",
    "    word_vectors_pca = pca.fit_transform(word_vectors)\n",
    "\n",
    "    logging.info(\"Performing KMeans clustering for plotting cluster centers...\")\n",
    "    kmeans = KMeans(n_clusters=num_clusters, random_state=42)\n",
    "    kmeans.fit(word_vectors)\n",
    "    cluster_centers_pca = pca.transform(kmeans.cluster_centers_)\n",
    "\n",
    "    logging.info(\"Plotting word vectors and cluster centers...\")\n",
    "    plt.figure(figsize=(10, 8))\n",
    "    plt.scatter(word_vectors_pca[:, 0], word_vectors_pca[:, 1], c=cluster_indices, cmap='viridis', alpha=0.5, s=10)\n",
    "    plt.scatter(cluster_centers_pca[:, 0], cluster_centers_pca[:, 1], c='red', marker='x', s=100, label='Cluster Centers')\n",
    "    plt.title('Word Vectors and Cluster Centers (PCA)')\n",
    "    plt.xlabel('PCA Component 1')\n",
    "    plt.ylabel('PCA Component 2')\n",
    "    plt.legend()\n",
    "    plt.show()\n",
    "    plt.show()\n",
    "\n",
    "def plot_silhouette_analysis(word_vectors, cluster_indices, num_clusters):\n",
    "    logging.info(\"Calculating silhouette score...\")\n",
    "    sampled_word_vectors, sampled_cluster_indices = resample(word_vectors, cluster_indices, n_samples=int(0.01*len(word_vectors)), random_state=42)\n",
    "    silhouette_avg = silhouette_score(sampled_word_vectors, sampled_cluster_indices)\n",
    "    logging.info(f\"Silhouette Score: {silhouette_avg:.3f}\")\n",
    "\n",
    "    logging.info(\"Plotting silhouette scores for each cluster...\")\n",
    "    sample_silhouette_values = silhouette_samples(sampled_word_vectors, sampled_cluster_indices)\n",
    "    y_lower = 10\n",
    "\n",
    "    plt.figure(figsize=(10, 8))\n",
    "\n",
    "    # クラスターごとのサンプル数が大きい場合に進行状況を表示\n",
    "    for i in tqdm(range(num_clusters), desc=\"Clusters processed\"):\n",
    "        ith_cluster_silhouette_values = sample_silhouette_values[sampled_cluster_indices == i]\n",
    "        ith_cluster_silhouette_values.sort()\n",
    "\n",
    "        size_cluster_i = ith_cluster_silhouette_values.shape[0]\n",
    "        y_upper = y_lower + size_cluster_i\n",
    "\n",
    "        color = plt.cm.nipy_spectral(float(i) / num_clusters)\n",
    "        plt.fill_betweenx(np.arange(y_lower, y_upper), 0, ith_cluster_silhouette_values,\n",
    "                          facecolor=color, edgecolor=color, alpha=0.7)\n",
    "\n",
    "        plt.text(-0.05, y_lower + 0.5 * size_cluster_i, str(i))\n",
    "        y_lower = y_upper + 10\n",
    "\n",
    "    plt.title(\"Silhouette Plot for Various Clusters\")\n",
    "    plt.xlabel(\"Silhouette Coefficient Values\")\n",
    "    plt.ylabel(\"Cluster\")\n",
    "\n",
    "    plt.axvline(x=silhouette_avg, color=\"red\", linestyle=\"--\")\n",
    "    plt.show()"
   ]
  },
  {
   "cell_type": "code",
   "execution_count": null,
   "metadata": {},
   "outputs": [
    {
     "name": "stderr",
     "output_type": "stream",
     "text": [
      "2024-08-26 00:46:42,067 - INFO - loading projection weights from ../data/japanese_word2vec_vectors.vec\n",
      "2024-08-26 00:48:13,750 - INFO - KeyedVectors lifecycle event {'msg': 'loaded (1015474, 200) matrix of type float32 from ../data/japanese_word2vec_vectors.vec', 'binary': False, 'encoding': 'utf8', 'datetime': '2024-08-26T00:48:13.750462', 'gensim': '4.3.3', 'python': '3.9.6 (default, Mar 29 2024, 10:51:09) \\n[Clang 15.0.0 (clang-1500.3.9.4)]', 'platform': 'macOS-14.6.1-arm64-arm-64bit', 'event': 'load_word2vec_format'}\n"
     ]
    },
    {
     "ename": "",
     "evalue": "",
     "output_type": "error",
     "traceback": [
      "\u001b[1;31mThe Kernel crashed while executing code in the current cell or a previous cell. \n",
      "\u001b[1;31mPlease review the code in the cell(s) to identify a possible cause of the failure. \n",
      "\u001b[1;31mClick <a href='https://aka.ms/vscodeJupyterKernelCrash'>here</a> for more info. \n",
      "\u001b[1;31mView Jupyter <a href='command:jupyter.viewOutput'>log</a> for further details."
     ]
    }
   ],
   "source": [
    "# kernel panic 計算量が非常に大きいと考えられる。\n",
    "\n",
    "model_path = '../data/japanese_word2vec_vectors.vec'\n",
    "num_clusters = 10\n",
    "word_vectors, linkage_matrix, cluster_indices = hc_cluster_words(model_path, num_clusters)"
   ]
  }
 ],
 "metadata": {
  "kernelspec": {
   "display_name": "Python 3",
   "language": "python",
   "name": "python3"
  },
  "language_info": {
   "codemirror_mode": {
    "name": "ipython",
    "version": 3
   },
   "file_extension": ".py",
   "mimetype": "text/x-python",
   "name": "python",
   "nbconvert_exporter": "python",
   "pygments_lexer": "ipython3",
   "version": "3.9.6"
  }
 },
 "nbformat": 4,
 "nbformat_minor": 2
}
